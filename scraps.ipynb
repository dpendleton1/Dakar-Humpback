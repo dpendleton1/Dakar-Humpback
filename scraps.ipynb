{
 "cells": [
  {
   "cell_type": "code",
   "execution_count": null,
   "id": "11548092-a544-4857-aea6-f65b6d289a53",
   "metadata": {},
   "outputs": [],
   "source": [
    "ds2['sst'].sel(latitude=slice(lat_min, lat_max), \n",
    "                   longitude=slice(lon_min, lon_max), \n",
    "                   time=slice(date_range[0], date_range[1]))\n",
    "\n",
    "dc.sel(time=\"2010-11-01\").plot(vmin = -2, vmax = 32)\n",
    "dc[15,:,:].plot(vmin = -2, vmax = 32)\n",
    "dc.mean(dim=['time']).plot();\n",
    "dc.mean().item() #grand mean\n",
    "dc_anom.plot(x='longitude', y='latitude', col=\"time\", col_wrap=4, vmax = 3, vmin = -3, cmap = colormap)\n",
    "\n",
    "dc = ds['sst'].sel(latitude=slice(lat_min, lat_max), \n",
    "                   longitude=slice(lon_min, lon_max), \n",
    "                   time=slice(date_range[0], date_range[1]))\n",
    "print(f\"Size in MB: {dc.nbytes / 1e6:.2f} MB\")\n",
    "print(dc.shape)\n",
    "dc\n",
    "\n",
    "dc_sm = ds['sst'].sel(latitude=slice(lat_min_sm, lat_max_sm), \n",
    "                   longitude=slice(lon_min_sm, lon_max_sm), \n",
    "                   time=slice(date_range[0], date_range[1]))\n",
    "print(f\"Size in MB: {dc.nbytes / 1e6:.2f} MB\")\n",
    "print(dc.shape)\n",
    "dc_sm\n",
    "\n"
   ]
  },
  {
   "cell_type": "code",
   "execution_count": null,
   "id": "f423bc8d-625e-4336-9200-4d6b683b023b",
   "metadata": {},
   "outputs": [],
   "source": [
    "# EXAMPLE PLOT MESHGRID WITH A BOX OVERLAYED\n",
    "# Plot a particular time period\n",
    "\n",
    "import numpy as np\n",
    "import matplotlib.pyplot as plt\n",
    "import matplotlib.patches as patches\n",
    "\n",
    "# Create sample data\n",
    "x = np.linspace(0, 10, 11)\n",
    "y = np.linspace(0, 5, 6)\n",
    "X, Y = np.meshgrid(x, y)\n",
    "Z = np.random.rand(len(y), len(x))\n",
    "\n",
    "# Create pcolormesh plot\n",
    "fig, ax = plt.subplots()\n",
    "mesh = ax.pcolormesh(X, Y, Z, shading='auto', cmap='viridis')\n",
    "\n",
    "# Add a rectangle on top\n",
    "# Arguments: (x, y), width, height\n",
    "rect = patches.Rectangle((2, 1), 4, 2, linewidth=2, edgecolor='red', facecolor='none')\n",
    "ax.add_patch(rect)\n",
    "\n",
    "# Add colorbar and show\n",
    "plt.colorbar(mesh, ax=ax)\n",
    "plt.show()"
   ]
  },
  {
   "cell_type": "code",
   "execution_count": null,
   "id": "9cc45e7a-b6b6-4c00-906e-4f4abc29f868",
   "metadata": {},
   "outputs": [],
   "source": [
    "t = \"2023-05-01\"; #date\n",
    "\n",
    "# Add a rectangle on top\n",
    "# Arguments: (x, y), width, height\n",
    "rect = patches.Rectangle((lon_min_sm, lat_min_sm), 10, 10, linewidth=2, edgecolor='blue', facecolor='none')\n",
    "\n",
    "fig, ax = plt.subplots()\n",
    "dc_anom.sel(time = t).plot(cmap = colormap, vmin = -2, vmax = 2)\n",
    "ax.add_patch(rect)\n",
    "\n",
    "ax.plot(deployment0101_lon, deployment0101_lat, marker='*', color='g', markersize=5)"
   ]
  },
  {
   "cell_type": "code",
   "execution_count": null,
   "id": "8d0d1476-1cab-4343-875f-61f08fda317b",
   "metadata": {},
   "outputs": [],
   "source": [
    "# Produce monthly anomalies by a different method, then compare the two of them\n",
    "## climatology2 is the second climatology\n",
    "\n",
    "#dc.groupby?\n",
    "\n",
    "#print(dc.time.dt)\n",
    "#print(dc.time.dt.month)\n",
    "\n",
    "#gb = ds.sst.groupby(ds.time.dt.month)\n",
    "#gb\n",
    "\n",
    "gb = dc.groupby('time.month')\n",
    "gb\n",
    "type(gb)\n",
    "\n",
    "#there are only 2 things inside this particular groupby, so you can choose any name you want\n",
    "for group_name, group_da in gb:\n",
    "    # stop iterating after the first loop\n",
    "    break \n",
    "print(group_name)\n",
    "group_da\n",
    "\n",
    "#gb.map(np.mean)\n",
    "climatology2 = gb.mean(dim='time')\n",
    "climatology2.shape\n",
    "\n",
    "climatology2"
   ]
  },
  {
   "cell_type": "code",
   "execution_count": null,
   "id": "92e46378-6039-4159-aea8-d433c0cb3fb0",
   "metadata": {},
   "outputs": [],
   "source": [
    "# Plot two climatologies next to one another\n",
    "\n",
    "fig, axes = plt.subplots(nrows=1, ncols=2, figsize=(10,5))\n",
    "climatology.mean(dim = ['latitude','longitude']).plot(ax = axes[0])\n",
    "climatology2.mean(dim=['latitude', 'longitude']).plot(ax=axes[1])"
   ]
  },
  {
   "cell_type": "code",
   "execution_count": null,
   "id": "0ea9563d-2e83-4a78-a956-b2058e1cb77d",
   "metadata": {},
   "outputs": [],
   "source": [
    "# Plot a single anomaly map from each method, to compare\n",
    "\n",
    "fig, axes = plt.subplots(nrows=1, ncols=2, figsize=(10,5))\n",
    "t = \"2021-07-01\"; m = 7; #date and month\n",
    "dc_anom.sel(time = t).plot(ax = axes[0])\n",
    "(dc.sel(time = t) - climatology2.sel(month = m)).plot(ax=axes[1])"
   ]
  },
  {
   "cell_type": "code",
   "execution_count": null,
   "id": "926c44f7-11fe-4618-8d9a-c7eb85dfc7be",
   "metadata": {},
   "outputs": [],
   "source": [
    "## Plot temperature anomalies for a particular month (April) for the period of the deployments\n",
    "\n",
    "#plot all temps for month = m\n",
    "m = 4\n",
    "month_anom_means_m = month_anom_means.sel(time = (month_anom_means.time.dt.month == m))\n",
    "\n",
    "t1 = '2015-06-01'; t2 = '2023-05-01'\n",
    "ts = dc_anom.sel(time=slice(t1, t2)).mean(dim = ['latitude','longitude'])\n",
    "\n",
    "\n",
    "fig, ax = plt.subplots()\n",
    "month_anom_means_m.plot(color=\"purple\", marker=\"o\")\n",
    "zero_line.sel(time = zero_line.time.dt.month == m).plot(color = \"black\", linestyle = \":\")\n"
   ]
  }
 ],
 "metadata": {
  "kernelspec": {
   "display_name": "Python 3 (ipykernel)",
   "language": "python",
   "name": "python3"
  },
  "language_info": {
   "codemirror_mode": {
    "name": "ipython",
    "version": 3
   },
   "file_extension": ".py",
   "mimetype": "text/x-python",
   "name": "python",
   "nbconvert_exporter": "python",
   "pygments_lexer": "ipython3",
   "version": "3.12.10"
  }
 },
 "nbformat": 4,
 "nbformat_minor": 5
}
