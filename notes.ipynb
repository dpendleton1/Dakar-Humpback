{
 "cells": [
  {
   "cell_type": "markdown",
   "id": "a2306336-bcd4-4afd-a45b-3c033b3867ce",
   "metadata": {},
   "source": [
    "# Resources used to build this script"
   ]
  },
  {
   "cell_type": "markdown",
   "id": "78c8c7b9-d1f9-4e5a-aa16-58e34b879198",
   "metadata": {},
   "source": [
    "https://earth-env-data-science.github.io/lectures/xarray/xarray-part2.html\n",
    "\n",
    "erddap_xarray.ipynb from the NOAA hackour 2025 folder\n",
    "\n",
    "This was the original one I used but it no longer works: https://comet.nefsc.noaa.gov/erddap/griddap/noaa_psl_2d74_d418_a6fb.html\n",
    "\n",
    "As of 4/16/25 I am using https://coastwatch.pfeg.noaa.gov/erddap/griddap/ncdcOisst21Agg.html, however this ERDDAP server went down.\n",
    "\n",
    "At this page, scroll to the Data Access section: https://www.ncei.noaa.gov/products/climate-data-records/sea-surface-temperature-optimum-interpolation\n",
    "\n",
    "https://www.ncei.noaa.gov/products/climate-data-records/sea-surface-temperature-optimum-interpolation"
   ]
  },
  {
   "cell_type": "markdown",
   "id": "6625e430-a4ef-4d55-8151-cd9aa51e8579",
   "metadata": {},
   "source": [
    "# Here's what we are going to do\n",
    "\n",
    "Q: how are animals figuring out to go up north\n",
    "\n",
    "A: make monthly map of SST from GoG to Dakar\n",
    "\n",
    "Produce a PDF and send it around - CVI to Dakar and down to GoG\n",
    "\n",
    "With this info we will think about the right boxes to make - qualitative examination\n",
    "\n",
    "Pick regions and perhaps groups of months\n",
    "\n",
    "Compute temp anaomalies and absolute temperatures as a timeseries in each region, as well as the spatial\n",
    "\n",
    "Perhaps compute difference between two regions, e.g. GoG vs CVI\n",
    "\n",
    "### For solving the prime meridian problem - consider converting to UTM\n",
    "\n",
    "UTM zones are every 10 degrees, so we may need more than one zone.\n",
    "\n",
    "### Add notes here for things that should be in the paper\n",
    "-Methods?\n",
    "-Results?\n",
    "-Discussion?\n"
   ]
  },
  {
   "cell_type": "code",
   "execution_count": null,
   "id": "97235132-9cd0-470e-a1b2-679488cd3a9d",
   "metadata": {},
   "outputs": [],
   "source": []
  }
 ],
 "metadata": {
  "kernelspec": {
   "display_name": "Python 3 (ipykernel)",
   "language": "python",
   "name": "python3"
  },
  "language_info": {
   "codemirror_mode": {
    "name": "ipython",
    "version": 3
   },
   "file_extension": ".py",
   "mimetype": "text/x-python",
   "name": "python",
   "nbconvert_exporter": "python",
   "pygments_lexer": "ipython3",
   "version": "3.12.10"
  }
 },
 "nbformat": 4,
 "nbformat_minor": 5
}
